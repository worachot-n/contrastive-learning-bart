{
 "cells": [
  {
   "cell_type": "code",
   "execution_count": 2,
   "id": "c1758596-23c5-4005-b7d4-164cc2a51b5b",
   "metadata": {},
   "outputs": [],
   "source": [
    "import os"
   ]
  },
  {
   "cell_type": "code",
   "execution_count": 3,
   "id": "42d806af-b53e-4f6d-ae25-fc5515f54db4",
   "metadata": {},
   "outputs": [],
   "source": [
    "# !rm -rf ./output/topic-length/gen_samples/.ipynb_checkpoints"
   ]
  },
  {
   "cell_type": "code",
   "execution_count": 4,
   "id": "31b5f6cf-92b8-47e9-8cfb-d8831c02807e",
   "metadata": {},
   "outputs": [],
   "source": [
    "def list_all_file(path):\n",
    "    dir_list = os.listdir(path)\n",
    "    sort_dir_list = sorted(dir_list)\n",
    "    return sort_dir_list"
   ]
  },
  {
   "cell_type": "code",
   "execution_count": 5,
   "id": "84c32e64-b624-4ad2-b973-ce6ad7a7b277",
   "metadata": {},
   "outputs": [],
   "source": [
    "def extract_file(file_name):\n",
    "    with open(file_name) as f:\n",
    "        lines = f.readlines()\n",
    "    particular_value = 'Generate Summary:\\n'\n",
    "    result = []\n",
    "    temp_list = []\n",
    "    for i in lines:\n",
    "        if i == particular_value:\n",
    "            temp_list.append(i)\n",
    "            result.append(temp_list)\n",
    "            temp_list = []\n",
    "        else:\n",
    "            temp_list.append(i)\n",
    "    # print(temp_list)\n",
    "    generate = temp_list[0]\n",
    "    return generate"
   ]
  },
  {
   "cell_type": "code",
   "execution_count": 6,
   "id": "d079f72a-c811-4a70-b247-1e16a35259cd",
   "metadata": {},
   "outputs": [],
   "source": [
    "def make_name(path, filename):\n",
    "    name, sum = filename.split('_sum')\n",
    "    summ, _ = sum.split('.txt')\n",
    "    summary = \"summary\" + summ\n",
    "    return name, summary"
   ]
  },
  {
   "cell_type": "code",
   "execution_count": 7,
   "id": "aba9bf3f-e429-44bb-bc8b-5d4e372f7896",
   "metadata": {},
   "outputs": [],
   "source": [
    "def build_result(path, filename):\n",
    "    name, summary = make_name(path, filename)\n",
    "    local_path = path + filename\n",
    "    texts = extract_file(local_path)\n",
    "    return name, summary, texts"
   ]
  },
  {
   "cell_type": "code",
   "execution_count": 8,
   "id": "cae0d97a-9ae2-405d-8f79-b9a220256126",
   "metadata": {},
   "outputs": [
    {
     "name": "stdout",
     "output_type": "stream",
     "text": [
      "Current Directory /home/worachotn/work/contrastive-learning-bart/analysis\n"
     ]
    }
   ],
   "source": [
    "path = os.getcwd()\n",
    "print(\"Current Directory\", path)\n",
    " \n",
    "# prints parent directory\n",
    "parent_path = os.path.abspath(os.path.join(path, os.pardir))"
   ]
  },
  {
   "cell_type": "code",
   "execution_count": 14,
   "id": "0b1eafc0-1e94-4d6a-81aa-4ab0a815e917",
   "metadata": {},
   "outputs": [],
   "source": [
    "# list_method = ['1-bart-baseline', '2-bart-length', '4-bart-topic-length', '5-bart-length-topic'\n",
    "#                , '2-bart-length-tagger', '4-bart-topic-length-tagger', '5-bart-length-topic-tagger']\n",
    "# list_method = ['bart-topic-length-cosine', 'bart-topic-length-cosine-negative', 'bart-topic-length-cosine-negative-prompt-tagger-margin']\n",
    "list_method = ['bart-topic-length-prompt-contrastive-topic-tagger']\n",
    "result_dict = {}\n",
    "list_dir = []\n",
    "for i in list_method:\n",
    "    deep_path = parent_path + \"/output/\" + i + \"/gen_samples/\"\n",
    "    dir_list = os.listdir(deep_path)\n",
    "    list_dir.append(deep_path)\n",
    "    # print(deep_path)\n",
    "    sort_dir_list = sorted(dir_list)\n",
    "    # print(sort_dir_list[:5])\n",
    "    # nums = []\n",
    "    # sums = []\n",
    "    # gens = []\n",
    "    keep = []\n",
    "    for j in range(0,len(sort_dir_list),3):\n",
    "        method_dict = {}\n",
    "        try:\n",
    "            # print(j)\n",
    "            num1, sum1, gen1 = build_result(deep_path, sort_dir_list[j])\n",
    "            num2, sum2, gen2 = build_result(deep_path, sort_dir_list[j+1])\n",
    "            num3, sum3, gen3 = build_result(deep_path, sort_dir_list[j+2])\n",
    "            method_dict['fname'] = num1\n",
    "            # print(num1)\n",
    "            method_dict['gen_' + sum1] = gen1\n",
    "            method_dict['gen_' + sum2] = gen2\n",
    "            method_dict['gen_' + sum3] = gen3\n",
    "        except:\n",
    "            pass\n",
    "        keep.append(method_dict)\n",
    "    result_dict[i] = keep    "
   ]
  },
  {
   "cell_type": "code",
   "execution_count": 15,
   "id": "1be89a18-f215-4941-bc12-05b1caf6cc61",
   "metadata": {},
   "outputs": [
    {
     "data": {
      "text/plain": [
       "[{'fname': 'test_99',\n",
       "  'gen_summary3': \"Summary: #Person1# thinks she knows #Person2# from somewhere but is surprised to find out that she doesn't.\",\n",
       "  'gen_summary1': 'Summary: #Person1# and #Person2# are talking about a man or woman of sound character.',\n",
       "  'gen_summary2': 'Summary: #Person1# and #Person2# talk about famous people.'},\n",
       " {}]"
      ]
     },
     "execution_count": 15,
     "metadata": {},
     "output_type": "execute_result"
    }
   ],
   "source": [
    "# 4-bart-topic-length\n",
    "result_dict[list_method[0]][-2:]"
   ]
  },
  {
   "cell_type": "code",
   "execution_count": 17,
   "id": "17fc0d47-bb18-49bd-9b26-82b53f3f34de",
   "metadata": {},
   "outputs": [
    {
     "data": {
      "text/plain": [
       "501"
      ]
     },
     "execution_count": 17,
     "metadata": {},
     "output_type": "execute_result"
    }
   ],
   "source": [
    "len(result_dict[list_method[0]])"
   ]
  },
  {
   "cell_type": "code",
   "execution_count": null,
   "id": "947978b7-cd3d-46aa-92d0-9786637670c0",
   "metadata": {},
   "outputs": [],
   "source": [
    "# 4-bart-topic-length-tagger\n",
    "result_dict[list_method[1]][:10]"
   ]
  },
  {
   "cell_type": "code",
   "execution_count": 11,
   "id": "d39074ac-c4b3-46d3-a3cb-0e3986c9923c",
   "metadata": {},
   "outputs": [
    {
     "data": {
      "text/plain": [
       "[{'fname': 'test_0',\n",
       "  'gen_summary1': '#Person1# asks Ms. Dawson to take a dictation for him and tells the staff that the use of Instant Message programs by employees during working hours is strictly prohibited. The policy applies to internal and external communications and any employee who persists in using Instant Messaging will first receive a warning and be placed on probation.',\n",
       "  'gen_summary2': '#Person1# asks Ms. Dawson to take a dictation for him and tells her that the use of Instant Message programs by employees during working hours is strictly prohibited. The policy applies to internal and external communications and any employee who persists in using Instant Messaging will first receive a warning and be placed on probation, and at second offense, the employee will face termination.',\n",
       "  'gen_summary3': '#Person1# asks Ms. Dawson to take a dictation for him and tells her that all office communications are restricted to email correspondence and official memos. The use of Instant Message programs by employees during working hours is strictly prohibited and applies to internal and external communications.'},\n",
       " {'fname': 'test_100',\n",
       "  'gen_summary1': \"#Person1# and #Person2# are talking about the presidential election. They both voted for Trump but they don't think he is the right person for the job.\",\n",
       "  'gen_summary2': \"#Person1# and #Person2# both voted for Obama but they don't think Trump is the right person for President. They will vote for Biden instead.\",\n",
       "  'gen_summary3': \"#Person1# and #Person2# both voted for Trump but they don't think he's the right person for president.\"},\n",
       " {'fname': 'test_101',\n",
       "  'gen_summary1': '#Person2# shows #Person1# how to use the ATM, which is a new experience for #Person 1#.',\n",
       "  'gen_summary2': '#Person2# teaches #Person1# how to use the ATM.',\n",
       "  'gen_summary3': '#Person1# wants to use the ATM but is not sure how. #Person2# teaches #Person 1# how to use it.'},\n",
       " {'fname': 'test_102',\n",
       "  'gen_summary1': 'Susan calls John to ask him where the memo about office procedures is.',\n",
       "  'gen_summary2': 'Susan Miller calls John to ask him where the memo about office procedures is.',\n",
       "  'gen_summary3': 'Susan calls John to find the memo about office procedures.'},\n",
       " {'fname': 'test_103',\n",
       "  'gen_summary1': '#Person1# invites Lily to the picnic this weekend.',\n",
       "  'gen_summary2': '#Person1# invites Lily to the picnic and tells her what to bring. Lily agrees.',\n",
       "  'gen_summary3': '#Person1# invites Lily to the picnic this weekend and tells her what to bring.'},\n",
       " {'fname': 'test_104',\n",
       "  'gen_summary1': '#Person2# tells #Person1# Beijingers are distinguished for their warmth and hospitality, but #Person2 # feels hazy about how to behave appropriately at a Chinese table. #Person 1# tells that there are a multitude of rules that foreigners might never know until they were told.',\n",
       "  'gen_summary2': '#Person2# tells #Person1# Beijingers are distinguished for their warmth and hospitality and #Person2 # has to use chopsticks at a Chinese feast. #Person 1# tells that there are many rules about Chinese table etiquette.',\n",
       "  'gen_summary3': '#Person2# tells #Person1# Beijingers are distinguished for their warmth and hospitality, but #Person2 # feels hazy about how to behave appropriately at a Chinese table. #Person 1# suggests placing chopsticks horizontally over the bowl or plate.'},\n",
       " {'fname': 'test_105',\n",
       "  'gen_summary1': 'Mary and Frank both like watching movies in their spare time. Mary likes art films but thrillers, and she usually rents movies at Movie Salon. Frank may also sign up for its membership.',\n",
       "  'gen_summary2': 'Mary and Frank both like watching movies in their spare time. Mary likes art films while Frank likes thrillers. Mary usually rents movies at Movie Salon. Frank may also sign up.',\n",
       "  'gen_summary3': 'Mary and Frank both like watching movies in their spare time. Mary likes art films while Frank likes thrillers. Mary usually rents movies at Movie Salon. Frank may sign up for its membership.'},\n",
       " {'fname': 'test_106',\n",
       "  'gen_summary1': \"#Person2# thought about joining the green party but didn't because #Person1# thinks it has no chance of winning an election and the other parties are too big and popular. They also agree that smaller political and pressure groups can often influence large political parties.\",\n",
       "  'gen_summary2': \"#Person2# thought about joining the green party but didn't because #Person1# thinks it has no chance of winning an election and the other parties are too big and popular. Then they talk about political parties and pressure groups.\",\n",
       "  'gen_summary3': \"#Person2# thought about joining the green party but didn't because #Person1# thinks it has no chance of winning an election and the other parties are too big and popular. They also agree that smaller political and pressure groups can often influence large political parties.\"},\n",
       " {'fname': 'test_107',\n",
       "  'gen_summary1': '#Person1# and Mr. Wilson apologize for the mistakes in goods. They will exchange all merchandise that falls short of their sample.',\n",
       "  'gen_summary2': '#Person1# apologizes for the mistakes in goods and promises to improve the package of their exported goods in future delivery.',\n",
       "  'gen_summary3': '#Person1# apologizes to Mr. Wilson for the mistakes in goods and promises to improve the package of their exported goods.'},\n",
       " {'fname': 'test_108',\n",
       "  'gen_summary1': \"#Person2# witnessed the robbery and tells #Person1# about the robber's appearance and the details of the robbery.\",\n",
       "  'gen_summary2': \"#Person2# witnessed the bank robbery and tells #Person1# about the robber's appearance and the details of the robbery.\",\n",
       "  'gen_summary3': '#Person2# witnessed the robbery and tells #Person1# what he saw and what he heard.'}]"
      ]
     },
     "execution_count": 11,
     "metadata": {},
     "output_type": "execute_result"
    }
   ],
   "source": [
    "# 4-bart-topic-length-tagger\n",
    "result_dict[list_method[2]][:10]"
   ]
  },
  {
   "cell_type": "code",
   "execution_count": 11,
   "id": "1c4eca0b-fddc-4b22-98b7-99f123911b94",
   "metadata": {},
   "outputs": [],
   "source": [
    "import json\n",
    "# list_method = ['bart-topic-length-cosine_topic', 'bart-topic-length-cosine-noalpha_topic']\n",
    "for i in list_method:\n",
    "    with open(f\"../result/{i}.json\", \"w\") as outfile:\n",
    "        json.dump(result_dict[i], outfile)"
   ]
  },
  {
   "cell_type": "code",
   "execution_count": null,
   "id": "940b200e-0143-4519-bb67-7758f27b51c9",
   "metadata": {},
   "outputs": [],
   "source": []
  }
 ],
 "metadata": {
  "kernelspec": {
   "display_name": "Python 3 (ipykernel)",
   "language": "python",
   "name": "python3"
  },
  "language_info": {
   "codemirror_mode": {
    "name": "ipython",
    "version": 3
   },
   "file_extension": ".py",
   "mimetype": "text/x-python",
   "name": "python",
   "nbconvert_exporter": "python",
   "pygments_lexer": "ipython3",
   "version": "3.10.6"
  }
 },
 "nbformat": 4,
 "nbformat_minor": 5
}
