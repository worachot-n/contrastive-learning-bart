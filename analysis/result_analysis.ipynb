{
 "cells": [
  {
   "cell_type": "code",
   "execution_count": 4,
   "id": "8e62fe7b-07fe-4f87-9864-d5690048b315",
   "metadata": {},
   "outputs": [],
   "source": [
    "import json\n",
    "import random\n",
    "# import utils\n",
    "\n",
    "import datasets\n",
    "from datasets import Dataset\n",
    "from torch.utils.data import DataLoader\n",
    "from transformers import DataCollatorForSeq2Seq\n",
    "\n",
    "\n",
    "def load_from_dialogsum(file_path):\n",
    "    ''' load dialoguesum jsonl data '''\n",
    "    data = []\n",
    "    with open(file_path, 'r') as f:\n",
    "        for line in f:\n",
    "            data.append(json.loads(line))\n",
    "    data_dict = {}\n",
    "    for sample in data:\n",
    "        data_dict[sample['fname']] = {\n",
    "            'summary1': sample['summary1'],\n",
    "            'topic1': sample['topic1'],\n",
    "            'summary2': sample['summary2'],\n",
    "            'topic2': sample['topic2'],\n",
    "            'summary3': sample['summary3'],\n",
    "            'topic3': sample['topic3']}\n",
    "\n",
    "    return data_dict"
   ]
  },
  {
   "cell_type": "code",
   "execution_count": 5,
   "id": "9f366a29-bb63-4604-bae4-e01a4c8d2c08",
   "metadata": {},
   "outputs": [
    {
     "name": "stdout",
     "output_type": "stream",
     "text": [
      "{'summary1': 'Ms. Dawson helps #Person1# to write a memo to inform every employee that they have to change the communication method and should not use Instant Messaging anymore.', 'topic1': 'communication method', 'summary2': 'In order to prevent employees from wasting time on Instant Message programs, #Person1# decides to terminate the use of those programs and asks Ms. Dawson to send out a memo to all employees by the afternoon.', 'topic2': 'company policy', 'summary3': 'Ms. Dawson takes a dictation for #Person1# about prohibiting the use of Instant Message programs in the office. They argue about its reasonability but #Person1# still insists.', 'topic3': 'dictation'}\n"
     ]
    }
   ],
   "source": [
    "dialogsum_test = load_from_dialogsum(\"../data/dialogsum/dialogsum.test.jsonl\")\n",
    "print(dialogsum_test['test_0'])"
   ]
  },
  {
   "cell_type": "code",
   "execution_count": 6,
   "id": "90eba9ba-9247-42bc-bc3c-92dcabd85137",
   "metadata": {},
   "outputs": [],
   "source": [
    "def load_from_result(file_path):\n",
    "    ''' load result json data '''\n",
    "    data = []\n",
    "    \n",
    "    with open(file_path, 'r') as f:\n",
    "        for line in f:\n",
    "            data.extend(json.loads(line))\n",
    "    # print(data)\n",
    "    data_dict = {}\n",
    "    for sample in data:\n",
    "        try:\n",
    "                data_dict[sample['fname']] = {\n",
    "                'gen_summary1': sample['gen_summary1'],\n",
    "                'gen_summary2': sample['gen_summary2'],\n",
    "                'gen_summary3': sample['gen_summary3']\n",
    "            }\n",
    "        except:\n",
    "            pass\n",
    "    return data_dict"
   ]
  },
  {
   "cell_type": "code",
   "execution_count": 7,
   "id": "b07dd647-c21f-447a-a510-0935a83a49ca",
   "metadata": {},
   "outputs": [
    {
     "name": "stdout",
     "output_type": "stream",
     "text": [
      "{'gen_summary1': '#Person1# asks Ms. Dawson to take a dictation for him and tells the staff that the use of Instant Message programs by employees during working hours is strictly prohibited. The memo applies to internal and external communications. Any employee who persists in using Instant Messaging will first receive a warning and be placed on probation.', 'gen_summary2': '#Person1# asks Ms. Dawson to take a dictation for him and tells the staff that the use of Instant Message programs by employees during working hours is strictly prohibited. The policy applies to internal and external communications. Any employee who persists in using Instant Messaging will first receive a warning and be placed on probation, and at second offense, the employee will face termination.', 'gen_summary3': '#Person1# asks Ms. Dawson to take a dictation for him and tells her that all office communications are restricted to email correspondence and official memos. The use of Instant Message programs by employees during working hours is strictly prohibited. Any employee who persists in using Instant Messaging will be placed on probation.'}\n"
     ]
    }
   ],
   "source": [
    "result = load_from_result(\"../result/bart-topic-length-cosine.json\")\n",
    "print(result['test_0'])"
   ]
  },
  {
   "cell_type": "code",
   "execution_count": 21,
   "id": "2bc2850f-2949-495c-bab3-d4235b688fec",
   "metadata": {},
   "outputs": [],
   "source": [
    "def show_all_result(test_id, num):\n",
    "    topic_no = \"topic\" + str(num)\n",
    "    summary_no = \"summary\" + str(num)\n",
    "    dialogsum_test = load_from_dialogsum(\"../data/dialogsum/dialogsum.test.jsonl\")\n",
    "    print(\"Topic: \",dialogsum_test[test_id][topic_no])\n",
    "    print('*'*50 + summary_no + '*'*50)\n",
    "    print(dialogsum_test[test_id][summary_no])\n",
    "    list_method = ['bart-topic-length-cosine', 'bart-topic-length-cosine-negative','bart-topic-length-cosine-negative-topic-tagger', 'bart-topic-length-cosine-negative-prompt-tagger-margin', 'bart-topic-length-cosine-negative-topic-tagger-decoder']\n",
    "    # list_method = ['bart-topic-length-cosine-negative-topic-tagger-decoder']\n",
    "    for i in list_method:\n",
    "        print('-'*50 + i + '-'*50)\n",
    "        path = f\"../result/{i}.json\"\n",
    "        result = load_from_result(path)\n",
    "        print(result[test_id]['gen_' + summary_no])"
   ]
  },
  {
   "cell_type": "code",
   "execution_count": 22,
   "id": "e7902f3f-5c59-4b78-9ddf-f6d56392744e",
   "metadata": {},
   "outputs": [
    {
     "name": "stdout",
     "output_type": "stream",
     "text": [
      "Topic:  communication method\n",
      "**************************************************summary1**************************************************\n",
      "Ms. Dawson helps #Person1# to write a memo to inform every employee that they have to change the communication method and should not use Instant Messaging anymore.\n",
      "--------------------------------------------------bart-topic-length-cosine--------------------------------------------------\n",
      "#Person1# asks Ms. Dawson to take a dictation for him and tells the staff that the use of Instant Message programs by employees during working hours is strictly prohibited. The memo applies to internal and external communications. Any employee who persists in using Instant Messaging will first receive a warning and be placed on probation.\n",
      "--------------------------------------------------bart-topic-length-cosine-negative--------------------------------------------------\n",
      "#Person1# asks Ms. Dawson to take a dictation and tells her the use of Instant Message programs by employees during working hours is strictly prohibited. The memo applies to internal and external communications.\n",
      "--------------------------------------------------bart-topic-length-cosine-negative-topic-tagger--------------------------------------------------\n",
      "#Person1# asks Ms. Dawson to take a dictation and tells her that the use of Instant Message programs by employees during working hours is strictly prohibited. #Person2# says it applies to internal and external communications and any employee who persists in using Instant Messaging will be placed on probation.\n",
      "--------------------------------------------------bart-topic-length-cosine-negative-prompt-tagger-margin--------------------------------------------------\n",
      "#Person1# asks Ms. Dawson to take a dictation for him and tells the staff that the use of Instant Message programs by employees during working hours is strictly prohibited. The policy applies to internal and external communications and any employee who persists in using Instant Messaging will first receive a warning and be placed on probation.\n",
      "--------------------------------------------------bart-topic-length-cosine-negative-topic-tagger-decoder--------------------------------------------------\n",
      "#Person1# asks Ms. Dawson to take a dictation for him and tells her that all office communications are restricted to email correspondence and official memos and the use of Instant Message programs by employees during working hours is strictly prohibited. #Person2# says many employees use Instant Messaging to communicate with their clients but they will just have to change their communication methods.\n"
     ]
    }
   ],
   "source": [
    "show_all_result('test_0', 1)"
   ]
  },
  {
   "cell_type": "code",
   "execution_count": 23,
   "id": "b5869a79-0926-425d-9f5e-e1c392ea9d69",
   "metadata": {},
   "outputs": [
    {
     "name": "stdout",
     "output_type": "stream",
     "text": [
      "Topic:  company policy\n",
      "**************************************************summary2**************************************************\n",
      "In order to prevent employees from wasting time on Instant Message programs, #Person1# decides to terminate the use of those programs and asks Ms. Dawson to send out a memo to all employees by the afternoon.\n",
      "--------------------------------------------------bart-topic-length-cosine--------------------------------------------------\n",
      "#Person1# asks Ms. Dawson to take a dictation for him and tells the staff that the use of Instant Message programs by employees during working hours is strictly prohibited. The policy applies to internal and external communications. Any employee who persists in using Instant Messaging will first receive a warning and be placed on probation, and at second offense, the employee will face termination.\n",
      "--------------------------------------------------bart-topic-length-cosine-negative--------------------------------------------------\n",
      "#Person1# asks Ms. Dawson to take a dictation for him and tells her that the use of Instant Message programs by employees during working hours is strictly prohibited and applies to internal and external communications. Any employee who persists in using Instant Messaging will first receive a warning and be placed on probation and then face termination.\n",
      "--------------------------------------------------bart-topic-length-cosine-negative-topic-tagger--------------------------------------------------\n",
      "#Person1# asks Ms. Dawson to take a dictation and tells her that the use of Instant Message programs by employees during working hours is strictly prohibited. The policy applies to internal and external communications and any employee who persists in using Instant Messaging will be placed on probation.\n",
      "--------------------------------------------------bart-topic-length-cosine-negative-prompt-tagger-margin--------------------------------------------------\n",
      "#Person1# asks Ms. Dawson to take a dictation for him and tells her that the use of Instant Message programs by employees during working hours is strictly prohibited. The policy applies to internal and external communications and any employee who persists in using Instant Messaging will first receive a warning and be placed on probation, and at second offense, the employee will face termination.\n",
      "--------------------------------------------------bart-topic-length-cosine-negative-topic-tagger-decoder--------------------------------------------------\n",
      "#Person1# asks Ms. Dawson to take a dictation for him and tells her that the use of Instant Message programs by employees during working hours is strictly prohibited. The policy applies to internal and external communications and any employee who persists in using Instant Messaging will first receive a warning and be placed on probation, and at second offense, the employee will face termination.\n"
     ]
    }
   ],
   "source": [
    "show_all_result('test_0', 2)"
   ]
  },
  {
   "cell_type": "code",
   "execution_count": 24,
   "id": "6d8b91d8-e22e-4d9d-9a4f-ef50f096a9d6",
   "metadata": {},
   "outputs": [
    {
     "name": "stdout",
     "output_type": "stream",
     "text": [
      "Topic:  dictation\n",
      "**************************************************summary3**************************************************\n",
      "Ms. Dawson takes a dictation for #Person1# about prohibiting the use of Instant Message programs in the office. They argue about its reasonability but #Person1# still insists.\n",
      "--------------------------------------------------bart-topic-length-cosine--------------------------------------------------\n",
      "#Person1# asks Ms. Dawson to take a dictation for him and tells her that all office communications are restricted to email correspondence and official memos. The use of Instant Message programs by employees during working hours is strictly prohibited. Any employee who persists in using Instant Messaging will be placed on probation.\n",
      "--------------------------------------------------bart-topic-length-cosine-negative--------------------------------------------------\n",
      "#Person1# asks Ms. Dawson to take a dictation for him and tells her the use of Instant Message programs by employees during working hours is strictly prohibited. The memo applies to internal and external communications. Any employee who persists in using Instant Messaging will be placed on probation.\n",
      "--------------------------------------------------bart-topic-length-cosine-negative-topic-tagger--------------------------------------------------\n",
      "#Person1# asks Ms. Dawson to take adictation for him. #Person2# says the use of Instant Message programs by employees during working hours is strictly prohibited and applies to internal and external communications. Any employee who persists in using Instant Messaging will first receive a warning and then be placed on probation.\n",
      "--------------------------------------------------bart-topic-length-cosine-negative-prompt-tagger-margin--------------------------------------------------\n",
      "#Person1# asks Ms. Dawson to take a dictation for him and tells her that all office communications are restricted to email correspondence and official memos. The use of Instant Message programs by employees during working hours is strictly prohibited and applies to internal and external communications.\n",
      "--------------------------------------------------bart-topic-length-cosine-negative-topic-tagger-decoder--------------------------------------------------\n",
      "#Person1# asks Ms. Dawson to take a dictation for him and tells her that all office communications are restricted to email correspondence and official memos and the use of Instant Message programs by employees during working hours is strictly prohibited. #Person2# says many employees use Instant Messaging to communicate with their clients but they will just have to change their communication methods.\n"
     ]
    }
   ],
   "source": [
    "show_all_result('test_0', 3)"
   ]
  },
  {
   "cell_type": "code",
   "execution_count": 28,
   "id": "c3cb97b3-f110-4879-9d70-ab650ed056f4",
   "metadata": {},
   "outputs": [
    {
     "name": "stdout",
     "output_type": "stream",
     "text": [
      "Topic:  use the ATM\n",
      "**************************************************summary1**************************************************\n",
      "#Person1# doesn't know how to use the ATM. #Person2# teaches #Person1# step by step.\n",
      "--------------------------------------------------bart-topic-length-cosine--------------------------------------------------\n",
      "#Person2# shows #Person1# how to use the ATM and tells #Person 1# it's pretty easy.\n",
      "--------------------------------------------------bart-topic-length-cosine-negative--------------------------------------------------\n",
      "#Person2# shows #Person1# how to use the ATM, which is a new experience.\n",
      "--------------------------------------------------bart-topic-length-cosine-negative-topic-tagger--------------------------------------------------\n",
      "#Person2# teaches #Person1# how to use the ATM and tells #Person 1# what to do.\n",
      "--------------------------------------------------bart-topic-length-cosine-negative-prompt-tagger-margin--------------------------------------------------\n",
      "#Person2# shows #Person1# how to use the ATM, which is a new experience for #Person 1#.\n",
      "--------------------------------------------------bart-topic-length-cosine-negative-topic-tagger-decoder--------------------------------------------------\n",
      "#Person2# teaches #Person1# how to use the ATM.\n"
     ]
    }
   ],
   "source": [
    "show_all_result('test_101', 1)"
   ]
  },
  {
   "cell_type": "code",
   "execution_count": 29,
   "id": "43f0e900-37b3-4802-986f-812ccefd7f77",
   "metadata": {},
   "outputs": [
    {
     "name": "stdout",
     "output_type": "stream",
     "text": [
      "Topic:  ATM\n",
      "**************************************************summary2**************************************************\n",
      "#Person1# doesn't know how to use an ATM. #Person2# teaches #Person1#.\n",
      "--------------------------------------------------bart-topic-length-cosine--------------------------------------------------\n",
      "#Person2# teaches #Person1# how to use the ATM.\n",
      "--------------------------------------------------bart-topic-length-cosine-negative--------------------------------------------------\n",
      "#Person2# teaches #Person1# how to use the ATM.\n",
      "--------------------------------------------------bart-topic-length-cosine-negative-topic-tagger--------------------------------------------------\n",
      "#Person2# teaches #Person1# how to use the ATM.\n",
      "--------------------------------------------------bart-topic-length-cosine-negative-prompt-tagger-margin--------------------------------------------------\n",
      "#Person2# teaches #Person1# how to use the ATM.\n",
      "--------------------------------------------------bart-topic-length-cosine-negative-topic-tagger-decoder--------------------------------------------------\n",
      "#Person2# teaches #Person1# how to use the ATM.\n"
     ]
    }
   ],
   "source": [
    "show_all_result('test_101', 2)"
   ]
  },
  {
   "cell_type": "code",
   "execution_count": 30,
   "id": "fdab499b-ca6e-440d-a2e3-5714fbc482b1",
   "metadata": {},
   "outputs": [
    {
     "name": "stdout",
     "output_type": "stream",
     "text": [
      "Topic:  ATM using\n",
      "**************************************************summary3**************************************************\n",
      "#Person2# is teaching #Person1# how to use an ATM step by step because #Person1# doesn't know how to use.\n",
      "--------------------------------------------------bart-topic-length-cosine--------------------------------------------------\n",
      "#Person1# wants to use the ATM but doesn't know how. #Person2# shows #Person1 # how to use it.\n",
      "--------------------------------------------------bart-topic-length-cosine-negative--------------------------------------------------\n",
      "#Person1# needs to use the ATM but doesn't know how. #Person2# teaches #Person1 # how to use it.\n",
      "--------------------------------------------------bart-topic-length-cosine-negative-topic-tagger--------------------------------------------------\n",
      "#Person2# teaches #Person1# how to use the ATM and tells #Person 1# to slide the card into the machine and type the PIN in.\n",
      "--------------------------------------------------bart-topic-length-cosine-negative-prompt-tagger-margin--------------------------------------------------\n",
      "#Person1# wants to use the ATM but is not sure how. #Person2# teaches #Person 1# how to use it.\n",
      "--------------------------------------------------bart-topic-length-cosine-negative-topic-tagger-decoder--------------------------------------------------\n",
      "#Person1# is not sure how to use the ATM. #Person2# teaches #Person 1# how to do it.\n"
     ]
    }
   ],
   "source": [
    "show_all_result('test_101', 3)"
   ]
  },
  {
   "cell_type": "markdown",
   "id": "eedaac16-66d5-462b-aa4b-d32f0abed995",
   "metadata": {},
   "source": []
  },
  {
   "cell_type": "code",
   "execution_count": null,
   "id": "76d12fa7-dc3d-4b17-8160-2adf23660783",
   "metadata": {},
   "outputs": [],
   "source": []
  }
 ],
 "metadata": {
  "kernelspec": {
   "display_name": "Python 3 (ipykernel)",
   "language": "python",
   "name": "python3"
  },
  "language_info": {
   "codemirror_mode": {
    "name": "ipython",
    "version": 3
   },
   "file_extension": ".py",
   "mimetype": "text/x-python",
   "name": "python",
   "nbconvert_exporter": "python",
   "pygments_lexer": "ipython3",
   "version": "3.10.6"
  }
 },
 "nbformat": 4,
 "nbformat_minor": 5
}
